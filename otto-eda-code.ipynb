{
 "cells": [
  {
   "cell_type": "code",
   "execution_count": 1,
   "id": "f5916312",
   "metadata": {
    "_cell_guid": "b1076dfc-b9ad-4769-8c92-a6c4dae69d19",
    "_uuid": "8f2839f25d086af736a60e9eeb907d3b93b6e0e5",
    "execution": {
     "iopub.execute_input": "2024-09-01T14:36:08.871843Z",
     "iopub.status.busy": "2024-09-01T14:36:08.871314Z",
     "iopub.status.idle": "2024-09-01T14:36:10.009334Z",
     "shell.execute_reply": "2024-09-01T14:36:10.007974Z"
    },
    "papermill": {
     "duration": 1.150626,
     "end_time": "2024-09-01T14:36:10.012372",
     "exception": false,
     "start_time": "2024-09-01T14:36:08.861746",
     "status": "completed"
    },
    "tags": []
   },
   "outputs": [],
   "source": [
    "import os\n",
    "import json\n",
    "import random\n",
    "import pandas as pd\n",
    "import numpy as np\n",
    "import matplotlib.pyplot as plt\n",
    "import seaborn as sns\n",
    "sns.set_theme()\n",
    "\n",
    "from pathlib import Path\n",
    "from heapq import nlargest\n",
    "from datetime import timedelta\n",
    "from collections import Counter\n",
    "from tqdm.notebook import tqdm\n",
    "\n",
    "import warnings\n",
    "warnings.filterwarnings('ignore')"
   ]
  },
  {
   "cell_type": "code",
   "execution_count": 2,
   "id": "e537b8f3",
   "metadata": {
    "execution": {
     "iopub.execute_input": "2024-09-01T14:36:10.027808Z",
     "iopub.status.busy": "2024-09-01T14:36:10.026911Z",
     "iopub.status.idle": "2024-09-01T14:36:10.032962Z",
     "shell.execute_reply": "2024-09-01T14:36:10.031741Z"
    },
    "papermill": {
     "duration": 0.016559,
     "end_time": "2024-09-01T14:36:10.035632",
     "exception": false,
     "start_time": "2024-09-01T14:36:10.019073",
     "status": "completed"
    },
    "tags": []
   },
   "outputs": [],
   "source": [
    "### path ###\n",
    "\n",
    "data_path = Path('../input/otto-recommender-system')\n",
    "train_path = data_path/'train.jsonl'\n",
    "test_path = data_path/'test.jsonl'\n",
    "sample_sub_path = Path('../input/otto-recommender-system/sample_submission.csv')"
   ]
  },
  {
   "cell_type": "code",
   "execution_count": 3,
   "id": "0abf30b0",
   "metadata": {
    "execution": {
     "iopub.execute_input": "2024-09-01T14:36:10.049842Z",
     "iopub.status.busy": "2024-09-01T14:36:10.049407Z",
     "iopub.status.idle": "2024-09-01T14:39:09.779926Z",
     "shell.execute_reply": "2024-09-01T14:39:09.778640Z"
    },
    "papermill": {
     "duration": 179.747788,
     "end_time": "2024-09-01T14:39:09.789760",
     "exception": false,
     "start_time": "2024-09-01T14:36:10.041972",
     "status": "completed"
    },
    "tags": []
   },
   "outputs": [
    {
     "name": "stdout",
     "output_type": "stream",
     "text": [
      "we have 12,899,779 lines in the training data.\n"
     ]
    }
   ],
   "source": [
    "with open(train_path, 'r') as f:\n",
    "    print(f\"we have {len(f.readlines()):,} lines in the training data.\")"
   ]
  },
  {
   "cell_type": "code",
   "execution_count": 4,
   "id": "33b225ff",
   "metadata": {
    "execution": {
     "iopub.execute_input": "2024-09-01T14:39:09.804273Z",
     "iopub.status.busy": "2024-09-01T14:39:09.803829Z",
     "iopub.status.idle": "2024-09-01T14:39:19.736422Z",
     "shell.execute_reply": "2024-09-01T14:39:19.734899Z"
    },
    "papermill": {
     "duration": 9.943462,
     "end_time": "2024-09-01T14:39:19.739475",
     "exception": false,
     "start_time": "2024-09-01T14:39:09.796013",
     "status": "completed"
    },
    "tags": []
   },
   "outputs": [],
   "source": [
    "sample_size = 150000\n",
    "\n",
    "chunks = pd.read_json(train_path, lines = True, chunksize = sample_size)\n",
    "\n",
    "for c in chunks:\n",
    "    sample_train_df = c\n",
    "    break"
   ]
  },
  {
   "cell_type": "code",
   "execution_count": 5,
   "id": "e03e134b",
   "metadata": {
    "execution": {
     "iopub.execute_input": "2024-09-01T14:39:19.754924Z",
     "iopub.status.busy": "2024-09-01T14:39:19.754471Z",
     "iopub.status.idle": "2024-09-01T14:39:19.872547Z",
     "shell.execute_reply": "2024-09-01T14:39:19.871321Z"
    },
    "papermill": {
     "duration": 0.129102,
     "end_time": "2024-09-01T14:39:19.875494",
     "exception": false,
     "start_time": "2024-09-01T14:39:19.746392",
     "status": "completed"
    },
    "tags": []
   },
   "outputs": [
    {
     "data": {
      "text/html": [
       "<div>\n",
       "<style scoped>\n",
       "    .dataframe tbody tr th:only-of-type {\n",
       "        vertical-align: middle;\n",
       "    }\n",
       "\n",
       "    .dataframe tbody tr th {\n",
       "        vertical-align: top;\n",
       "    }\n",
       "\n",
       "    .dataframe thead th {\n",
       "        text-align: right;\n",
       "    }\n",
       "</style>\n",
       "<table border=\"1\" class=\"dataframe\">\n",
       "  <thead>\n",
       "    <tr style=\"text-align: right;\">\n",
       "      <th></th>\n",
       "      <th>events</th>\n",
       "    </tr>\n",
       "    <tr>\n",
       "      <th>session</th>\n",
       "      <th></th>\n",
       "    </tr>\n",
       "  </thead>\n",
       "  <tbody>\n",
       "    <tr>\n",
       "      <th>0</th>\n",
       "      <td>[{'aid': 1517085, 'ts': 1659304800025, 'type':...</td>\n",
       "    </tr>\n",
       "    <tr>\n",
       "      <th>1</th>\n",
       "      <td>[{'aid': 424964, 'ts': 1659304800025, 'type': ...</td>\n",
       "    </tr>\n",
       "    <tr>\n",
       "      <th>2</th>\n",
       "      <td>[{'aid': 763743, 'ts': 1659304800038, 'type': ...</td>\n",
       "    </tr>\n",
       "    <tr>\n",
       "      <th>3</th>\n",
       "      <td>[{'aid': 1425967, 'ts': 1659304800095, 'type':...</td>\n",
       "    </tr>\n",
       "    <tr>\n",
       "      <th>4</th>\n",
       "      <td>[{'aid': 613619, 'ts': 1659304800119, 'type': ...</td>\n",
       "    </tr>\n",
       "  </tbody>\n",
       "</table>\n",
       "</div>"
      ],
      "text/plain": [
       "                                                    events\n",
       "session                                                   \n",
       "0        [{'aid': 1517085, 'ts': 1659304800025, 'type':...\n",
       "1        [{'aid': 424964, 'ts': 1659304800025, 'type': ...\n",
       "2        [{'aid': 763743, 'ts': 1659304800038, 'type': ...\n",
       "3        [{'aid': 1425967, 'ts': 1659304800095, 'type':...\n",
       "4        [{'aid': 613619, 'ts': 1659304800119, 'type': ..."
      ]
     },
     "execution_count": 5,
     "metadata": {},
     "output_type": "execute_result"
    }
   ],
   "source": [
    "sample_train_df.set_index('session', drop = True, inplace = True)\n",
    "sample_train_df.head()\n"
   ]
  },
  {
   "cell_type": "code",
   "execution_count": 6,
   "id": "b317a317",
   "metadata": {
    "execution": {
     "iopub.execute_input": "2024-09-01T14:39:19.893488Z",
     "iopub.status.busy": "2024-09-01T14:39:19.892893Z",
     "iopub.status.idle": "2024-09-01T14:39:19.902681Z",
     "shell.execute_reply": "2024-09-01T14:39:19.901419Z"
    },
    "papermill": {
     "duration": 0.022944,
     "end_time": "2024-09-01T14:39:19.905511",
     "exception": false,
     "start_time": "2024-09-01T14:39:19.882567",
     "status": "completed"
    },
    "tags": []
   },
   "outputs": [
    {
     "name": "stdout",
     "output_type": "stream",
     "text": [
      "This session is 276 actions long. \n",
      "\n",
      "The first action in the session: {'aid': 1517085, 'ts': 1659304800025, 'type': 'clicks'}. \n",
      "\n",
      "The first session elapsed: 27 days, 13:09:43.682000. \n",
      "\n",
      "The first session contains the following frequency of actions: {'clicks': 255, 'carts': 17, 'orders': 4}\n"
     ]
    }
   ],
   "source": [
    "# sample the first session in the df\n",
    "example_session = sample_train_df.iloc[0].item()\n",
    "print(f'This session is {len(example_session)} actions long. \\n')\n",
    "print(f'The first action in the session: {example_session[0]}. \\n')\n",
    "\n",
    "# time of session\n",
    "time_elapsed = example_session[-1][\"ts\"] - example_session[0][\"ts\"]\n",
    "# time-stamp is in milliseconds since 00:00:00 UTC on 1 Jan 1970\n",
    "print(f'The first session elapsed: {str(timedelta(milliseconds = time_elapsed))}. \\n')\n",
    "\n",
    "# count the frequency of actions within the session\n",
    "action_counts = {}\n",
    "for action in example_session:\n",
    "    action_counts[action['type']] = action_counts.get(action['type'], 0) + 1\n",
    "print(f'The first session contains the following frequency of actions: {action_counts}')"
   ]
  },
  {
   "cell_type": "code",
   "execution_count": 7,
   "id": "75f00c61",
   "metadata": {
    "execution": {
     "iopub.execute_input": "2024-09-01T14:39:19.921372Z",
     "iopub.status.busy": "2024-09-01T14:39:19.920276Z",
     "iopub.status.idle": "2024-09-01T14:39:46.144708Z",
     "shell.execute_reply": "2024-09-01T14:39:46.143280Z"
    },
    "papermill": {
     "duration": 26.235461,
     "end_time": "2024-09-01T14:39:46.147598",
     "exception": false,
     "start_time": "2024-09-01T14:39:19.912137",
     "status": "completed"
    },
    "tags": []
   },
   "outputs": [
    {
     "data": {
      "application/vnd.jupyter.widget-view+json": {
       "model_id": "c9d7c56be0c942f7800446eb2f277fec",
       "version_major": 2,
       "version_minor": 0
      },
      "text/plain": [
       "  0%|          | 0/150000 [00:00<?, ?it/s]"
      ]
     },
     "metadata": {},
     "output_type": "display_data"
    }
   ],
   "source": [
    "### Extract information from each session and add it to the df ###\n",
    "\n",
    "action_counts_list, article_id_counts_list, session_length_time_list, session_length_action_list = ([] for i in range(4))\n",
    "overall_action_counts = {}\n",
    "overall_article_id_counts = {}\n",
    "\n",
    "for i, row in tqdm(sample_train_df.iterrows(), total=len(sample_train_df)):\n",
    "    \n",
    "    actions = row['events']\n",
    "    \n",
    "    # Get the frequency of actions and article_ids\n",
    "    action_counts = {}\n",
    "    article_id_counts = {}\n",
    "    for action in actions:\n",
    "        action_counts[action['type']] = action_counts.get(action['type'], 0) + 1\n",
    "        article_id_counts[action['aid']] = article_id_counts.get(action['aid'], 0) + 1\n",
    "        overall_action_counts[action['type']] = overall_action_counts.get(action['type'], 0) + 1\n",
    "        overall_article_id_counts[action['aid']] = overall_article_id_counts.get(action['aid'], 0) + 1\n",
    "        \n",
    "    # Get the length of the session\n",
    "    session_length_time = actions[-1]['ts'] - actions[0]['ts']\n",
    "    \n",
    "    # Add to list\n",
    "    action_counts_list.append(action_counts)\n",
    "    article_id_counts_list.append(article_id_counts)\n",
    "    session_length_time_list.append(session_length_time)\n",
    "    session_length_action_list.append(len(actions))\n",
    "    \n",
    "sample_train_df['action_counts'] = action_counts_list\n",
    "sample_train_df['article_id_counts'] = article_id_counts_list\n",
    "sample_train_df['session_length_unix'] = session_length_time_list\n",
    "sample_train_df['session_length_hours'] = sample_train_df['session_length_unix']*2.77778e-7  # Convert to hours\n",
    "sample_train_df['session_length_action'] = session_length_action_list"
   ]
  },
  {
   "cell_type": "code",
   "execution_count": 8,
   "id": "efbebcee",
   "metadata": {
    "execution": {
     "iopub.execute_input": "2024-09-01T14:39:46.163240Z",
     "iopub.status.busy": "2024-09-01T14:39:46.162805Z",
     "iopub.status.idle": "2024-09-01T14:39:46.399047Z",
     "shell.execute_reply": "2024-09-01T14:39:46.397774Z"
    },
    "papermill": {
     "duration": 0.247209,
     "end_time": "2024-09-01T14:39:46.401868",
     "exception": false,
     "start_time": "2024-09-01T14:39:46.154659",
     "status": "completed"
    },
    "tags": []
   },
   "outputs": [
    {
     "data": {
      "image/png": "[encoded data removed]",
      "text/plain": [
       "<Figure size 576x432 with 1 Axes>"
      ]
     },
     "metadata": {},
     "output_type": "display_data"
    }
   ],
   "source": [
    "### Actions ###\n",
    "\n",
    "total_actions = sum(overall_action_counts.values())\n",
    "\n",
    "plt.figure(figsize=(8,6))\n",
    "sns.barplot(x=list(overall_action_counts.keys()), y=[i/total_actions for i in overall_action_counts.values()])\n",
    "plt.title(f'Action frequency', fontsize=12)\n",
    "plt.ylabel('Count', fontsize=12)\n",
    "plt.xlabel('Category', fontsize=12)\n",
    "plt.show()"
   ]
  },
  {
   "cell_type": "code",
   "execution_count": 9,
   "id": "7ebf9c79",
   "metadata": {
    "execution": {
     "iopub.execute_input": "2024-09-01T14:39:46.418463Z",
     "iopub.status.busy": "2024-09-01T14:39:46.417560Z",
     "iopub.status.idle": "2024-09-01T14:39:47.303400Z",
     "shell.execute_reply": "2024-09-01T14:39:47.302116Z"
    },
    "papermill": {
     "duration": 0.897359,
     "end_time": "2024-09-01T14:39:47.306416",
     "exception": false,
     "start_time": "2024-09-01T14:39:46.409057",
     "status": "completed"
    },
    "tags": []
   },
   "outputs": [
    {
     "data": {
      "text/plain": [
       "Text(0.5, 1.0, 'Length of each session')"
      ]
     },
     "execution_count": 9,
     "metadata": {},
     "output_type": "execute_result"
    },
    {
     "data": {
      "image/png": "[encoded data removed]",
      "text/plain": [
       "<Figure size 1728x720 with 2 Axes>"
      ]
     },
     "metadata": {},
     "output_type": "display_data"
    }
   ],
   "source": [
    "fig, ax = plt.subplots(1, 2, figsize = (24, 10))\n",
    "\n",
    "p = sns.distplot(sample_train_df['session_length_action'], color=\"y\", bins=70, ax=ax[0], kde=False)\n",
    "p.set_xlabel(\"Number of actions\", fontsize = 16)\n",
    "p.set_ylabel(\"Density\", fontsize = 16)\n",
    "p.set_title(\"Distribution of the number of actions taken in each session\", fontsize = 14)\n",
    "p.axvline(sample_train_df['session_length_action'].mean(), color='r', linestyle='--', label=\"Mean\")\n",
    "\n",
    "p = sns.distplot(sample_train_df['session_length_hours'], color=\"b\", bins= 70, ax=ax[1], kde=False)\n",
    "p.set_xlabel(\"Hours\", fontsize = 16)\n",
    "p.set_ylabel(\"Density\", fontsize = 16)\n",
    "p.set_title(\"Length of each session\", fontsize = 16)"
   ]
  },
  {
   "cell_type": "code",
   "execution_count": 10,
   "id": "3c197e4e",
   "metadata": {
    "execution": {
     "iopub.execute_input": "2024-09-01T14:39:47.325605Z",
     "iopub.status.busy": "2024-09-01T14:39:47.324087Z",
     "iopub.status.idle": "2024-09-01T14:39:47.388510Z",
     "shell.execute_reply": "2024-09-01T14:39:47.387220Z"
    },
    "papermill": {
     "duration": 0.076346,
     "end_time": "2024-09-01T14:39:47.391233",
     "exception": false,
     "start_time": "2024-09-01T14:39:47.314887",
     "status": "completed"
    },
    "tags": []
   },
   "outputs": [
    {
     "name": "stdout",
     "output_type": "stream",
     "text": [
      "34.8% of the sessions had less than 10 actions\n"
     ]
    }
   ],
   "source": [
    "print(f'{round(len(sample_train_df[sample_train_df[\"session_length_action\"]<10])/len(sample_train_df),3)*100}% of the sessions had less than 10 actions')"
   ]
  },
  {
   "cell_type": "code",
   "execution_count": 11,
   "id": "d41f2852",
   "metadata": {
    "execution": {
     "iopub.execute_input": "2024-09-01T14:39:47.409404Z",
     "iopub.status.busy": "2024-09-01T14:39:47.408318Z",
     "iopub.status.idle": "2024-09-01T14:39:47.908961Z",
     "shell.execute_reply": "2024-09-01T14:39:47.907522Z"
    },
    "papermill": {
     "duration": 0.512746,
     "end_time": "2024-09-01T14:39:47.911864",
     "exception": false,
     "start_time": "2024-09-01T14:39:47.399118",
     "status": "completed"
    },
    "tags": []
   },
   "outputs": [
    {
     "data": {
      "image/png": "[encoded data removed]",
      "text/plain": [
       "<Figure size 576x432 with 1 Axes>"
      ]
     },
     "metadata": {},
     "output_type": "display_data"
    }
   ],
   "source": [
    "article_id_freq = list(overall_article_id_counts.values())\n",
    "cut_off = [i for i in article_id_freq if i<30]\n",
    "\n",
    "plt.figure(figsize=(8,6))\n",
    "sns.distplot(cut_off, bins=30, kde=False);\n",
    "plt.title(f'Article ID frequency', fontsize=12)\n",
    "plt.ylabel('Count', fontsize=12)\n",
    "plt.xlabel('Article', fontsize=12);"
   ]
  },
  {
   "cell_type": "code",
   "execution_count": 12,
   "id": "3646fa12",
   "metadata": {
    "execution": {
     "iopub.execute_input": "2024-09-01T14:39:47.930042Z",
     "iopub.status.busy": "2024-09-01T14:39:47.929606Z",
     "iopub.status.idle": "2024-09-01T14:39:48.291234Z",
     "shell.execute_reply": "2024-09-01T14:39:48.289716Z"
    },
    "papermill": {
     "duration": 0.373816,
     "end_time": "2024-09-01T14:39:48.293833",
     "exception": false,
     "start_time": "2024-09-01T14:39:47.920017",
     "status": "completed"
    },
    "tags": []
   },
   "outputs": [
    {
     "name": "stdout",
     "output_type": "stream",
     "text": [
      "Frequency of most common articles: [3877, 4259, 4323, 4503, 5000] \n",
      "\n",
      "IDs for those common articles: [29735, 1603001, 832192, 1733943, 108125]\n"
     ]
    }
   ],
   "source": [
    "### look at the most interacted with articles\n",
    "print(f'Frequency of most common articles: {sorted(list(overall_article_id_counts.values()))[-5:]} \\n')\n",
    "res = nlargest(5, overall_article_id_counts, key = overall_article_id_counts.get)\n",
    "print(f'IDs for those common articles: {res}')"
   ]
  },
  {
   "cell_type": "code",
   "execution_count": 13,
   "id": "54b8be01",
   "metadata": {
    "execution": {
     "iopub.execute_input": "2024-09-01T14:39:48.312720Z",
     "iopub.status.busy": "2024-09-01T14:39:48.311579Z",
     "iopub.status.idle": "2024-09-01T14:39:48.960721Z",
     "shell.execute_reply": "2024-09-01T14:39:48.959491Z"
    },
    "papermill": {
     "duration": 0.661552,
     "end_time": "2024-09-01T14:39:48.963537",
     "exception": false,
     "start_time": "2024-09-01T14:39:48.301985",
     "status": "completed"
    },
    "tags": []
   },
   "outputs": [],
   "source": [
    "import os\n",
    "import gc\n",
    "import heapq\n",
    "import pickle\n",
    "import numba as nb\n",
    "import numpy as np\n",
    "import pandas as pd\n",
    "from tqdm.auto import tqdm\n",
    "\n",
    "tail = 30\n",
    "parallel = 1024\n",
    "topn = 20\n",
    "ops_weights = np.array([1.0, 6.0, 3.0])\n",
    "OP_WEIGHT = 0; TIME_WEIGHT = 1\n",
    "parallel = 1024\n",
    "test_ops_weights = np.array([1.0, 6.0, 3.0])"
   ]
  },
  {
   "cell_type": "markdown",
   "id": "8ff8ac1f",
   "metadata": {
    "papermill": {
     "duration": 0.008104,
     "end_time": "2024-09-01T14:39:48.980259",
     "exception": false,
     "start_time": "2024-09-01T14:39:48.972155",
     "status": "completed"
    },
    "tags": []
   },
   "source": [
    "## Data\n",
    "### Meta DataFrame\n",
    "train.csv\\test.csv columns:\n",
    "- session: ordered session ids\n",
    "- length: length of each session\n",
    "- start_time: start time stamp (unit = 1sec) of this session\n",
    "\n",
    "### Data Array\n",
    "train.npz\\test.csv:\n",
    "An npz contains three 1-dim arrays:\n",
    "- aids: aid array\n",
    "- ts: time stamp array\n",
    "- ops:type array,clicks=0, carts=1, orders=2"
   ]
  },
  {
   "cell_type": "code",
   "execution_count": 14,
   "id": "b8083454",
   "metadata": {
    "execution": {
     "iopub.execute_input": "2024-09-01T14:39:48.999044Z",
     "iopub.status.busy": "2024-09-01T14:39:48.998598Z",
     "iopub.status.idle": "2024-09-01T14:40:24.558098Z",
     "shell.execute_reply": "2024-09-01T14:40:24.556948Z"
    },
    "papermill": {
     "duration": 35.572688,
     "end_time": "2024-09-01T14:40:24.561131",
     "exception": false,
     "start_time": "2024-09-01T14:39:48.988443",
     "status": "completed"
    },
    "tags": []
   },
   "outputs": [],
   "source": [
    "df = pd.read_csv(\"../input/otto-data/otto-data/train.csv\")\n",
    "df_test = pd.read_csv(\"../input/otto-data/otto-data/test.csv\")\n",
    "df = pd.concat([df, df_test]).reset_index(drop = True)\n",
    "npz = np.load(\"../input/otto-data/otto-data/train.npz\")\n",
    "npz_test = np.load(\"../input/otto-data/otto-data/test.npz\")\n",
    "aids = np.concatenate([npz['aids'], npz_test['aids']])\n",
    "ts = np.concatenate([npz['ts'], npz_test['ts']])\n",
    "ops = np.concatenate([npz['ops'], npz_test['ops']])\n",
    "\n",
    "df[\"idx\"] = np.cumsum(df.length) - df.length\n",
    "df[\"end_time\"] = df.start_time + ts[df.idx + df.length - 1]"
   ]
  },
  {
   "cell_type": "markdown",
   "id": "4cb3a8ce",
   "metadata": {
    "papermill": {
     "duration": 0.00789,
     "end_time": "2024-09-01T14:40:24.577459",
     "exception": false,
     "start_time": "2024-09-01T14:40:24.569569",
     "status": "completed"
    },
    "tags": []
   },
   "source": [
    "# Numba functions\n",
    "\n",
    "To fully utilize the ability of numba's jit, and to avoid memory errors, we process `parallel=1024` sessions in one jit function call.\n",
    "\n",
    "- Firstly, we count the `(aid1, aid2)` pairs in each session in parallel. \n",
    "\n",
    "- Then, we merge these pairs into a nested counter `{aid1: {aid2: n}, ...}`\n",
    "\n",
    "- Finally, we find the top-k `aid2` from `aid1`'s counter"
   ]
  },
  {
   "cell_type": "code",
   "execution_count": 15,
   "id": "0d2b599f",
   "metadata": {
    "execution": {
     "iopub.execute_input": "2024-09-01T14:40:24.596280Z",
     "iopub.status.busy": "2024-09-01T14:40:24.595244Z",
     "iopub.status.idle": "2024-09-01T14:40:24.877356Z",
     "shell.execute_reply": "2024-09-01T14:40:24.876045Z"
    },
    "papermill": {
     "duration": 0.294604,
     "end_time": "2024-09-01T14:40:24.880265",
     "exception": false,
     "start_time": "2024-09-01T14:40:24.585661",
     "status": "completed"
    },
    "tags": []
   },
   "outputs": [],
   "source": [
    "# get pair dict {(aid1, aid2): weight} for each session\n",
    "# The maximum time span between two points is 1 day = 24 * 60 * 60 sec\n",
    "@nb.jit(nopython = True, cache = True)\n",
    "def get_single_pairs(pairs, aids, ts, ops, idx, length, start_time, ops_weights, mode):\n",
    "    max_idx = idx + length\n",
    "    min_idx = max(max_idx - tail, idx)\n",
    "    for i in range(min_idx, max_idx):\n",
    "        for j in range(i + 1, max_idx):\n",
    "            if ts[j] - ts[i] >= 24 * 60 * 60: break\n",
    "            if aids[i] == aids[j]: continue\n",
    "            if mode == OP_WEIGHT:\n",
    "                w1 = ops_weights[ops[j]]\n",
    "                w2 = ops_weights[ops[i]]\n",
    "            elif mode == TIME_WEIGHT:\n",
    "                w1 = 1 + 3 * (ts[i] + start_time - 1659304800) / (1662328791 - 1659304800)\n",
    "                w2 = 1 + 3 * (ts[j] + start_time - 1659304800) / (1662328791 - 1659304800)\n",
    "            pairs[(aids[i], aids[j])] = w1\n",
    "            pairs[(aids[j], aids[i])] = w2\n",
    "\n",
    "# get pair dict of each session in parallel\n",
    "# merge pairs into a nested dict format (cnt)\n",
    "@nb.jit(nopython = True, parallel = True, cache = True)\n",
    "def get_pairs(aids, ts, ops, row, cnts, ops_weights, mode):\n",
    "    par_n = len(row)\n",
    "    pairs = [{(0, 0): 0.0 for _ in range(0)} for _ in range(par_n)]\n",
    "    for par_i in nb.prange(par_n):\n",
    "        _, idx, length, start_time = row[par_i]\n",
    "        get_single_pairs(pairs[par_i], aids, ts, ops, idx, length, start_time, ops_weights, mode)\n",
    "    for par_i in range(par_n):\n",
    "        for (aid1, aid2), w in pairs[par_i].items():\n",
    "            if aid1 not in cnts: cnts[aid1] = {0: 0.0 for _ in range(0)}\n",
    "            cnt = cnts[aid1]\n",
    "            if aid2 not in cnt: cnt[aid2] = 0.0\n",
    "            cnt[aid2] += w\n",
    "    \n",
    "# util function to get most common keys from a counter dict using min-heap\n",
    "# overwrite == 1 means the later item with equal weight is more important\n",
    "# otherwise, means the former item with equal weight is more important\n",
    "# the result is ordered from higher weight to lower weight\n",
    "@nb.jit(nopython = True, cache = True)\n",
    "def heap_topk(cnt, overwrite, cap):\n",
    "    q = [(0.0, 0, 0) for _ in range(0)]\n",
    "    for i, (k, n) in enumerate(cnt.items()):\n",
    "        if overwrite == 1:\n",
    "            heapq.heappush(q, (n, i, k))\n",
    "        else:\n",
    "            heapq.heappush(q, (n, -i, k))\n",
    "        if len(q) > cap:\n",
    "            heapq.heappop(q)\n",
    "    return [heapq.heappop(q)[2] for _ in range(len(q))][::-1]\n",
    "   \n",
    "# save top-k aid2 for each aid1's cnt\n",
    "@nb.jit(nopython = True, cache = True)\n",
    "def get_topk(cnts, topk, k):\n",
    "    for aid1, cnt in cnts.items():\n",
    "        topk[aid1] = np.array(heap_topk(cnt, 1, k))"
   ]
  },
  {
   "cell_type": "markdown",
   "id": "3b328410",
   "metadata": {
    "papermill": {
     "duration": 0.008044,
     "end_time": "2024-09-01T14:40:24.896673",
     "exception": false,
     "start_time": "2024-09-01T14:40:24.888629",
     "status": "completed"
    },
    "tags": []
   },
   "source": [
    "# Train \n",
    "Here we use topk counting from [Deotte's notebooks](https://www.kaggle.com/code/cdeotte/candidate-rerank-model-lb-0-573). I dropped some of his ideas to make the whole pipeline simple but still strong.\n",
    "\n",
    "- **mode 0**: Counters are weighted by operation types, with `op_weights = [1.0, 6.0, 3.0]`. This will be used for carts and orders prediction.\n",
    "\n",
    "- **mode 1**: Counters are weighted by operation time.  This will be used for clicks prediction.\n",
    "\n",
    "For each mode, the eastimated running time is **7min~8min** in kaggle notebook"
   ]
  },
  {
   "cell_type": "code",
   "execution_count": 16,
   "id": "b4baa809",
   "metadata": {
    "execution": {
     "iopub.execute_input": "2024-09-01T14:40:24.914839Z",
     "iopub.status.busy": "2024-09-01T14:40:24.914373Z",
     "iopub.status.idle": "2024-09-01T14:58:25.349061Z",
     "shell.execute_reply": "2024-09-01T14:58:25.347815Z"
    },
    "papermill": {
     "duration": 1080.454522,
     "end_time": "2024-09-01T14:58:25.359381",
     "exception": false,
     "start_time": "2024-09-01T14:40:24.904859",
     "status": "completed"
    },
    "tags": []
   },
   "outputs": [
    {
     "data": {
      "application/vnd.jupyter.widget-view+json": {
       "model_id": "7c3631ac39c44af79174c3d04c516efe",
       "version_major": 2,
       "version_minor": 0
      },
      "text/plain": [
       "  0%|          | 0/14231 [00:00<?, ?it/s]"
      ]
     },
     "metadata": {},
     "output_type": "display_data"
    },
    {
     "data": {
      "application/vnd.jupyter.widget-view+json": {
       "model_id": "2296e7c090514f718f8711bd4878164c",
       "version_major": 2,
       "version_minor": 0
      },
      "text/plain": [
       "  0%|          | 0/14231 [00:05<?, ?it/s]"
      ]
     },
     "metadata": {},
     "output_type": "display_data"
    }
   ],
   "source": [
    "topks = {}\n",
    "\n",
    "# for two modes\n",
    "for mode in [OP_WEIGHT, TIME_WEIGHT]:\n",
    "    # get nested counter\n",
    "    cnts = nb.typed.Dict.empty(\n",
    "        key_type = nb.types.int64,\n",
    "        value_type = nb.typeof(nb.typed.Dict.empty(key_type = nb.types.int64, value_type = nb.types.float64)))\n",
    "    max_idx = len(df)\n",
    "    for idx in tqdm(range(0, max_idx, parallel)):\n",
    "        row = df.iloc[idx:min(idx + parallel, max_idx)][['session', 'idx', 'length', 'start_time']].values\n",
    "        get_pairs(aids, ts, ops, row, cnts, ops_weights, mode)\n",
    "\n",
    "    # get topk from counter\n",
    "    topk = nb.typed.Dict.empty(\n",
    "            key_type = nb.types.int64,\n",
    "            value_type = nb.types.int64[:])\n",
    "    get_topk(cnts, topk, topn)\n",
    "\n",
    "    del cnts; gc.collect()\n",
    "    topks[mode] = topk"
   ]
  },
  {
   "cell_type": "markdown",
   "id": "4ca75e40",
   "metadata": {
    "papermill": {
     "duration": 0.008462,
     "end_time": "2024-09-01T14:58:25.376507",
     "exception": false,
     "start_time": "2024-09-01T14:58:25.368045",
     "status": "completed"
    },
    "tags": []
   },
   "source": [
    "# Inference Numba Functions\n",
    "### Inference Numba Functions\n",
    "\n",
    "The logic is a simpler version of [Deotte's notebook](https://www.kaggle.com/code/cdeotte/candidate-rerank-model-lb-0-573).\n",
    "\n",
    "Same as training functions, we process `parallel=1024` sessions in one jit function call. For each session, if the unique aids is more than 20, we rerank them by a time-decay weight. Otherwise, we use current aids to recall new aids from their topk co-visitation candidates, weighted by the query's operation type (`test_ops_weights=[1.0, 6.0, 3.0]`). \n",
    "\n",
    "We used **mode0** topk to generate predictions for carts and orders, and **mode1** topk to generate predictions for clicks. "
   ]
  },
  {
   "cell_type": "code",
   "execution_count": 17,
   "id": "6aa04f5b",
   "metadata": {
    "execution": {
     "iopub.execute_input": "2024-09-01T14:58:25.428176Z",
     "iopub.status.busy": "2024-09-01T14:58:25.427628Z",
     "iopub.status.idle": "2024-09-01T14:58:30.100447Z",
     "shell.execute_reply": "2024-09-01T14:58:30.099257Z"
    },
    "papermill": {
     "duration": 4.718708,
     "end_time": "2024-09-01T14:58:30.103737",
     "exception": false,
     "start_time": "2024-09-01T14:58:25.385029",
     "status": "completed"
    },
    "tags": []
   },
   "outputs": [],
   "source": [
    "@nb.jit(nopython = True, cache = True)\n",
    "def inference_(aids, ops, row, result, topk, test_ops_weights, seq_weight):\n",
    "    for session, idx, length in row:\n",
    "        unique_aids = nb.typed.Dict.empty(key_type = nb.types.int64, value_type = nb.types.float64)\n",
    "        cnt = nb.typed.Dict.empty(key_type = nb.types.int64, value_type = nb.types.float64)\n",
    "        \n",
    "        candidates = aids[idx:idx + length][::-1]\n",
    "        candidates_ops = ops[idx:idx + length][::-1]\n",
    "        for a in candidates:\n",
    "            unique_aids[a] = 0\n",
    "                \n",
    "        if len(unique_aids) >= 20:\n",
    "            sequence_weight = np.power(2, np.linspace(seq_weight, 1, len(candidates)))[::-1] - 1\n",
    "            for a, op, w in zip(candidates, candidates_ops, sequence_weight):\n",
    "                if a not in cnt: cnt[a] = 0\n",
    "                cnt[a] += w * test_ops_weights[op]\n",
    "            result_candidates = heap_topk(cnt, 0, 20)\n",
    "        else:\n",
    "            result_candidates = list(unique_aids)\n",
    "            for a in result_candidates:\n",
    "                if a not in topk: continue\n",
    "                for b in topk[a]:\n",
    "                    if b in unique_aids: continue\n",
    "                    if b not in cnt: cnt[b] = 0\n",
    "                    cnt[b] += 1\n",
    "            result_candidates.extend(heap_topk(cnt, 0, 20 - len(result_candidates)))\n",
    "        result[session] = np.array(result_candidates)\n",
    "        \n",
    "@nb.jit(nopython = True)\n",
    "def inference(aids, ops, row, \n",
    "              result_clicks, result_buy,\n",
    "              topk_clicks, topk_buy,\n",
    "              test_ops_weights):\n",
    "    inference_(aids, ops, row, result_clicks, topk_clicks, test_ops_weights, 0.1)\n",
    "    inference_(aids, ops, row, result_buy, topk_buy, test_ops_weights, 0.5)"
   ]
  },
  {
   "cell_type": "code",
   "execution_count": 18,
   "id": "ef17760b",
   "metadata": {
    "execution": {
     "iopub.execute_input": "2024-09-01T14:58:30.123762Z",
     "iopub.status.busy": "2024-09-01T14:58:30.122541Z",
     "iopub.status.idle": "2024-09-01T14:59:42.151308Z",
     "shell.execute_reply": "2024-09-01T14:59:42.149916Z"
    },
    "papermill": {
     "duration": 72.041955,
     "end_time": "2024-09-01T14:59:42.154304",
     "exception": false,
     "start_time": "2024-09-01T14:58:30.112349",
     "status": "completed"
    },
    "tags": []
   },
   "outputs": [
    {
     "data": {
      "application/vnd.jupyter.widget-view+json": {
       "model_id": "41f9df5eb6984c39855d45c097c6c5d6",
       "version_major": 2,
       "version_minor": 0
      },
      "text/plain": [
       "  0%|          | 0/1633 [00:00<?, ?it/s]"
      ]
     },
     "metadata": {},
     "output_type": "display_data"
    }
   ],
   "source": [
    "# result place holder\n",
    "result_clicks = nb.typed.Dict.empty(\n",
    "    key_type = nb.types.int64,\n",
    "    value_type = nb.types.int64[:])\n",
    "result_buy = nb.typed.Dict.empty(\n",
    "    key_type = nb.types.int64,\n",
    "    value_type = nb.types.int64[:])\n",
    "for idx in tqdm(range(len(df) - len(df_test), len(df), parallel)):\n",
    "    row = df.iloc[idx:min(idx + parallel, len(df))][['session', 'idx', 'length']].values\n",
    "    inference(aids, ops, row, result_clicks, result_buy, topks[TIME_WEIGHT], topks[OP_WEIGHT], test_ops_weights)"
   ]
  },
  {
   "cell_type": "code",
   "execution_count": 19,
   "id": "922a1e4e",
   "metadata": {
    "execution": {
     "iopub.execute_input": "2024-09-01T14:59:42.174350Z",
     "iopub.status.busy": "2024-09-01T14:59:42.173812Z",
     "iopub.status.idle": "2024-09-01T15:02:16.034177Z",
     "shell.execute_reply": "2024-09-01T15:02:16.032655Z"
    },
    "papermill": {
     "duration": 153.886048,
     "end_time": "2024-09-01T15:02:16.049415",
     "exception": false,
     "start_time": "2024-09-01T14:59:42.163367",
     "status": "completed"
    },
    "tags": []
   },
   "outputs": [
    {
     "data": {
      "text/html": [
       "<div>\n",
       "<style scoped>\n",
       "    .dataframe tbody tr th:only-of-type {\n",
       "        vertical-align: middle;\n",
       "    }\n",
       "\n",
       "    .dataframe tbody tr th {\n",
       "        vertical-align: top;\n",
       "    }\n",
       "\n",
       "    .dataframe thead th {\n",
       "        text-align: right;\n",
       "    }\n",
       "</style>\n",
       "<table border=\"1\" class=\"dataframe\">\n",
       "  <thead>\n",
       "    <tr style=\"text-align: right;\">\n",
       "      <th></th>\n",
       "      <th>session_type</th>\n",
       "      <th>labels</th>\n",
       "    </tr>\n",
       "  </thead>\n",
       "  <tbody>\n",
       "    <tr>\n",
       "      <th>0</th>\n",
       "      <td>12899779_clicks</td>\n",
       "      <td>59625 1253524 737445 438191 731692 1790770 166...</td>\n",
       "    </tr>\n",
       "    <tr>\n",
       "      <th>1</th>\n",
       "      <td>12899780_clicks</td>\n",
       "      <td>1142000 736515 973453 582732 1502122 889686 48...</td>\n",
       "    </tr>\n",
       "    <tr>\n",
       "      <th>2</th>\n",
       "      <td>12899781_clicks</td>\n",
       "      <td>918667 199008 194067 57315 141736 1460571 7594...</td>\n",
       "    </tr>\n",
       "    <tr>\n",
       "      <th>3</th>\n",
       "      <td>12899782_clicks</td>\n",
       "      <td>834354 595994 740494 889671 987399 779477 1344...</td>\n",
       "    </tr>\n",
       "    <tr>\n",
       "      <th>4</th>\n",
       "      <td>12899783_clicks</td>\n",
       "      <td>1817895 607638 1754419 1216820 1729553 300127 ...</td>\n",
       "    </tr>\n",
       "  </tbody>\n",
       "</table>\n",
       "</div>"
      ],
      "text/plain": [
       "      session_type                                             labels\n",
       "0  12899779_clicks  59625 1253524 737445 438191 731692 1790770 166...\n",
       "1  12899780_clicks  1142000 736515 973453 582732 1502122 889686 48...\n",
       "2  12899781_clicks  918667 199008 194067 57315 141736 1460571 7594...\n",
       "3  12899782_clicks  834354 595994 740494 889671 987399 779477 1344...\n",
       "4  12899783_clicks  1817895 607638 1754419 1216820 1729553 300127 ..."
      ]
     },
     "execution_count": 19,
     "metadata": {},
     "output_type": "execute_result"
    }
   ],
   "source": [
    "subs = []\n",
    "op_names = [\"clicks\", \"carts\", \"orders\"]\n",
    "for result, op in zip([result_clicks, result_buy, result_buy], op_names):\n",
    "\n",
    "    sub = pd.DataFrame({\"session_type\": result.keys(), \"labels\": result.values()})\n",
    "    sub.session_type = sub.session_type.astype(str) + f\"_{op}\"\n",
    "    sub.labels = sub.labels.apply(lambda x: \" \".join(x.astype(str)))\n",
    "    subs.append(sub)\n",
    "    \n",
    "sub = pd.concat(subs).reset_index(drop = True)\n",
    "sub.to_csv('submission.csv', index = False)\n",
    "sub.head()"
   ]
  }
 ],
 "metadata": {
  "kaggle": {
   "accelerator": "none",
   "dataSources": [
    {
     "databundleVersionId": 4493939,
     "sourceId": 38760,
     "sourceType": "competition"
    },
    {
     "datasetId": 5624900,
     "sourceId": 9291404,
     "sourceType": "datasetVersion"
    }
   ],
   "dockerImageVersionId": 30301,
   "isGpuEnabled": false,
   "isInternetEnabled": true,
   "language": "python",
   "sourceType": "notebook"
  },
  "kernelspec": {
   "display_name": "Python 3",
   "language": "python",
   "name": "python3"
  },
  "language_info": {
   "codemirror_mode": {
    "name": "ipython",
    "version": 3
   },
   "file_extension": ".py",
   "mimetype": "text/x-python",
   "name": "python",
   "nbconvert_exporter": "python",
   "pygments_lexer": "ipython3",
   "version": "3.7.12"
  },
  "papermill": {
   "default_parameters": {},
   "duration": 1581.740861,
   "end_time": "2024-09-01T15:02:20.294914",
   "environment_variables": {},
   "exception": null,
   "input_path": "__notebook__.ipynb",
   "output_path": "__notebook__.ipynb",
   "parameters": {},
   "start_time": "2024-09-01T14:35:58.554053",
   "version": "2.3.4"
  },
  "widgets": {
   "application/vnd.jupyter.widget-state+json": {
    "state": {
     "053b795256444adaa3715a83ccb4f2d8": {
      "model_module": "@jupyter-widgets/controls",
      "model_module_version": "1.5.0",
      "model_name": "DescriptionStyleModel",
      "state": {
       "_model_module": "@jupyter-widgets/controls",
       "_model_module_version": "1.5.0",
       "_model_name": "DescriptionStyleModel",
       "_view_count": null,
       "_view_module": "@jupyter-widgets/base",
       "_view_module_version": "1.2.0",
       "_view_name": "StyleView",
       "description_width": ""
      }
     },
     "0696a99768e14519b98a5e5d1d97c2be": {
      "model_module": "@jupyter-widgets/controls",
      "model_module_version": "1.5.0",
      "model_name": "FloatProgressModel",
      "state": {
       "_dom_classes": [],
       "_model_module": "@jupyter-widgets/controls",
       "_model_module_version": "1.5.0",
       "_model_name": "FloatProgressModel",
       "_view_count": null,
       "_view_module": "@jupyter-widgets/controls",
       "_view_module_version": "1.5.0",
       "_view_name": "ProgressView",
       "bar_style": "success",
       "description": "",
       "description_tooltip": null,
       "layout": "IPY_MODEL_5fbe85ad06e742d382b96512c47ce290",
       "max": 1633.0,
       "min": 0.0,
       "orientation": "horizontal",
       "style": "IPY_MODEL_77f250389ca041ae900de2c61362a267",
       "value": 1633.0
      }
     },
     "0a362cc5c52b4d0c903b64059b9ca9b9": {
      "model_module": "@jupyter-widgets/base",
      "model_module_version": "1.2.0",
      "model_name": "LayoutModel",
      "state": {
       "_model_module": "@jupyter-widgets/base",
       "_model_module_version": "1.2.0",
       "_model_name": "LayoutModel",
       "_view_count": null,
       "_view_module": "@jupyter-widgets/base",
       "_view_module_version": "1.2.0",
       "_view_name": "LayoutView",
       "align_content": null,
       "align_items": null,
       "align_self": null,
       "border": null,
       "bottom": null,
       "display": null,
       "flex": null,
       "flex_flow": null,
       "grid_area": null,
       "grid_auto_columns": null,
       "grid_auto_flow": null,
       "grid_auto_rows": null,
       "grid_column": null,
       "grid_gap": null,
       "grid_row": null,
       "grid_template_areas": null,
       "grid_template_columns": null,
       "grid_template_rows": null,
       "height": null,
       "justify_content": null,
       "justify_items": null,
       "left": null,
       "margin": null,
       "max_height": null,
       "max_width": null,
       "min_height": null,
       "min_width": null,
       "object_fit": null,
       "object_position": null,
       "order": null,
       "overflow": null,
       "overflow_x": null,
       "overflow_y": null,
       "padding": null,
       "right": null,
       "top": null,
       "visibility": null,
       "width": null
      }
     },
     "0cdb63439c6f455699e38c4104d77051": {
      "model_module": "@jupyter-widgets/controls",
      "model_module_version": "1.5.0",
      "model_name": "FloatProgressModel",
      "state": {
       "_dom_classes": [],
       "_model_module": "@jupyter-widgets/controls",
       "_model_module_version": "1.5.0",
       "_model_name": "FloatProgressModel",
       "_view_count": null,
       "_view_module": "@jupyter-widgets/controls",
       "_view_module_version": "1.5.0",
       "_view_name": "ProgressView",
       "bar_style": "success",
       "description": "",
       "description_tooltip": null,
       "layout": "IPY_MODEL_258ac336d9fb444096ccb16bc2ae03ac",
       "max": 150000.0,
       "min": 0.0,
       "orientation": "horizontal",
       "style": "IPY_MODEL_371a4af68cb945e399b18917328fe4f4",
       "value": 150000.0
      }
     },
     "157eb32e999948e09b4a97f8c0474f86": {
      "model_module": "@jupyter-widgets/controls",
      "model_module_version": "1.5.0",
      "model_name": "HTMLModel",
      "state": {
       "_dom_classes": [],
       "_model_module": "@jupyter-widgets/controls",
       "_model_module_version": "1.5.0",
       "_model_name": "HTMLModel",
       "_view_count": null,
       "_view_module": "@jupyter-widgets/controls",
       "_view_module_version": "1.5.0",
       "_view_name": "HTMLView",
       "description": "",
       "description_tooltip": null,
       "layout": "IPY_MODEL_fa8ef3b4ec9b45f7b28de8b2dcd6fbec",
       "placeholder": "​",
       "style": "IPY_MODEL_1ab52cbb23444a7ba026878b356c1257",
       "value": "100%"
      }
     },
     "17ef8f3a6572473e8a1bf66e7875d246": {
      "model_module": "@jupyter-widgets/base",
      "model_module_version": "1.2.0",
      "model_name": "LayoutModel",
      "state": {
       "_model_module": "@jupyter-widgets/base",
       "_model_module_version": "1.2.0",
       "_model_name": "LayoutModel",
       "_view_count": null,
       "_view_module": "@jupyter-widgets/base",
       "_view_module_version": "1.2.0",
       "_view_name": "LayoutView",
       "align_content": null,
       "align_items": null,
       "align_self": null,
       "border": null,
       "bottom": null,
       "display": null,
       "flex": null,
       "flex_flow": null,
       "grid_area": null,
       "grid_auto_columns": null,
       "grid_auto_flow": null,
       "grid_auto_rows": null,
       "grid_column": null,
       "grid_gap": null,
       "grid_row": null,
       "grid_template_areas": null,
       "grid_template_columns": null,
       "grid_template_rows": null,
       "height": null,
       "justify_content": null,
       "justify_items": null,
       "left": null,
       "margin": null,
       "max_height": null,
       "max_width": null,
       "min_height": null,
       "min_width": null,
       "object_fit": null,
       "object_position": null,
       "order": null,
       "overflow": null,
       "overflow_x": null,
       "overflow_y": null,
       "padding": null,
       "right": null,
       "top": null,
       "visibility": null,
       "width": null
      }
     },
     "1ab52cbb23444a7ba026878b356c1257": {
      "model_module": "@jupyter-widgets/controls",
      "model_module_version": "1.5.0",
      "model_name": "DescriptionStyleModel",
      "state": {
       "_model_module": "@jupyter-widgets/controls",
       "_model_module_version": "1.5.0",
       "_model_name": "DescriptionStyleModel",
       "_view_count": null,
       "_view_module": "@jupyter-widgets/base",
       "_view_module_version": "1.2.0",
       "_view_name": "StyleView",
       "description_width": ""
      }
     },
     "2296e7c090514f718f8711bd4878164c": {
      "model_module": "@jupyter-widgets/controls",
      "model_module_version": "1.5.0",
      "model_name": "HBoxModel",
      "state": {
       "_dom_classes": [],
       "_model_module": "@jupyter-widgets/controls",
       "_model_module_version": "1.5.0",
       "_model_name": "HBoxModel",
       "_view_count": null,
       "_view_module": "@jupyter-widgets/controls",
       "_view_module_version": "1.5.0",
       "_view_name": "HBoxView",
       "box_style": "",
       "children": [
        "IPY_MODEL_b6ae4b2cced44e59aea12d57ec936a34",
        "IPY_MODEL_df51cd6a9ca14e8e985017bc39dfd31e",
        "IPY_MODEL_6946fb9a0a284f6abca18510986b7b93"
       ],
       "layout": "IPY_MODEL_2cf4e3bc0ff54097ade12140e3efb5c2"
      }
     },
     "22db3dc21da14f00950a69e0bea81b2f": {
      "model_module": "@jupyter-widgets/controls",
      "model_module_version": "1.5.0",
      "model_name": "HTMLModel",
      "state": {
       "_dom_classes": [],
       "_model_module": "@jupyter-widgets/controls",
       "_model_module_version": "1.5.0",
       "_model_name": "HTMLModel",
       "_view_count": null,
       "_view_module": "@jupyter-widgets/controls",
       "_view_module_version": "1.5.0",
       "_view_name": "HTMLView",
       "description": "",
       "description_tooltip": null,
       "layout": "IPY_MODEL_82c3ad2e43b1405288e5b45ae94ef5fb",
       "placeholder": "​",
       "style": "IPY_MODEL_b76eeac530fd4692986b8ae6da1139b3",
       "value": "100%"
      }
     },
     "258ac336d9fb444096ccb16bc2ae03ac": {
      "model_module": "@jupyter-widgets/base",
      "model_module_version": "1.2.0",
      "model_name": "LayoutModel",
      "state": {
       "_model_module": "@jupyter-widgets/base",
       "_model_module_version": "1.2.0",
       "_model_name": "LayoutModel",
       "_view_count": null,
       "_view_module": "@jupyter-widgets/base",
       "_view_module_version": "1.2.0",
       "_view_name": "LayoutView",
       "align_content": null,
       "align_items": null,
       "align_self": null,
       "border": null,
       "bottom": null,
       "display": null,
       "flex": null,
       "flex_flow": null,
       "grid_area": null,
       "grid_auto_columns": null,
       "grid_auto_flow": null,
       "grid_auto_rows": null,
       "grid_column": null,
       "grid_gap": null,
       "grid_row": null,
       "grid_template_areas": null,
       "grid_template_columns": null,
       "grid_template_rows": null,
       "height": null,
       "justify_content": null,
       "justify_items": null,
       "left": null,
       "margin": null,
       "max_height": null,
       "max_width": null,
       "min_height": null,
       "min_width": null,
       "object_fit": null,
       "object_position": null,
       "order": null,
       "overflow": null,
       "overflow_x": null,
       "overflow_y": null,
       "padding": null,
       "right": null,
       "top": null,
       "visibility": null,
       "width": null
      }
     },
     "260dfd1456c546b59bebb54ca18bb41a": {
      "model_module": "@jupyter-widgets/controls",
      "model_module_version": "1.5.0",
      "model_name": "DescriptionStyleModel",
      "state": {
       "_model_module": "@jupyter-widgets/controls",
       "_model_module_version": "1.5.0",
       "_model_name": "DescriptionStyleModel",
       "_view_count": null,
       "_view_module": "@jupyter-widgets/base",
       "_view_module_version": "1.2.0",
       "_view_name": "StyleView",
       "description_width": ""
      }
     },
     "2cf4e3bc0ff54097ade12140e3efb5c2": {
      "model_module": "@jupyter-widgets/base",
      "model_module_version": "1.2.0",
      "model_name": "LayoutModel",
      "state": {
       "_model_module": "@jupyter-widgets/base",
       "_model_module_version": "1.2.0",
       "_model_name": "LayoutModel",
       "_view_count": null,
       "_view_module": "@jupyter-widgets/base",
       "_view_module_version": "1.2.0",
       "_view_name": "LayoutView",
       "align_content": null,
       "align_items": null,
       "align_self": null,
       "border": null,
       "bottom": null,
       "display": null,
       "flex": null,
       "flex_flow": null,
       "grid_area": null,
       "grid_auto_columns": null,
       "grid_auto_flow": null,
       "grid_auto_rows": null,
       "grid_column": null,
       "grid_gap": null,
       "grid_row": null,
       "grid_template_areas": null,
       "grid_template_columns": null,
       "grid_template_rows": null,
       "height": null,
       "justify_content": null,
       "justify_items": null,
       "left": null,
       "margin": null,
       "max_height": null,
       "max_width": null,
       "min_height": null,
       "min_width": null,
       "object_fit": null,
       "object_position": null,
       "order": null,
       "overflow": null,
       "overflow_x": null,
       "overflow_y": null,
       "padding": null,
       "right": null,
       "top": null,
       "visibility": null,
       "width": null
      }
     },
     "2f50d35a06f64277ad93ea2c776df11d": {
      "model_module": "@jupyter-widgets/controls",
      "model_module_version": "1.5.0",
      "model_name": "HTMLModel",
      "state": {
       "_dom_classes": [],
       "_model_module": "@jupyter-widgets/controls",
       "_model_module_version": "1.5.0",
       "_model_name": "HTMLModel",
       "_view_count": null,
       "_view_module": "@jupyter-widgets/controls",
       "_view_module_version": "1.5.0",
       "_view_name": "HTMLView",
       "description": "",
       "description_tooltip": null,
       "layout": "IPY_MODEL_fe849052083e45d89b95ba3ac5d839fe",
       "placeholder": "​",
       "style": "IPY_MODEL_e7032d1ff6184342ac4bc9498d9598c8",
       "value": " 1633/1633 [01:12&lt;00:00, 25.01it/s]"
      }
     },
     "371a4af68cb945e399b18917328fe4f4": {
      "model_module": "@jupyter-widgets/controls",
      "model_module_version": "1.5.0",
      "model_name": "ProgressStyleModel",
      "state": {
       "_model_module": "@jupyter-widgets/controls",
       "_model_module_version": "1.5.0",
       "_model_name": "ProgressStyleModel",
       "_view_count": null,
       "_view_module": "@jupyter-widgets/base",
       "_view_module_version": "1.2.0",
       "_view_name": "StyleView",
       "bar_color": null,
       "description_width": ""
      }
     },
     "41f9df5eb6984c39855d45c097c6c5d6": {
      "model_module": "@jupyter-widgets/controls",
      "model_module_version": "1.5.0",
      "model_name": "HBoxModel",
      "state": {
       "_dom_classes": [],
       "_model_module": "@jupyter-widgets/controls",
       "_model_module_version": "1.5.0",
       "_model_name": "HBoxModel",
       "_view_count": null,
       "_view_module": "@jupyter-widgets/controls",
       "_view_module_version": "1.5.0",
       "_view_name": "HBoxView",
       "box_style": "",
       "children": [
        "IPY_MODEL_22db3dc21da14f00950a69e0bea81b2f",
        "IPY_MODEL_0696a99768e14519b98a5e5d1d97c2be",
        "IPY_MODEL_2f50d35a06f64277ad93ea2c776df11d"
       ],
       "layout": "IPY_MODEL_c75f45c22d16403cbf78d059523318f6"
      }
     },
     "5fbe85ad06e742d382b96512c47ce290": {
      "model_module": "@jupyter-widgets/base",
      "model_module_version": "1.2.0",
      "model_name": "LayoutModel",
      "state": {
       "_model_module": "@jupyter-widgets/base",
       "_model_module_version": "1.2.0",
       "_model_name": "LayoutModel",
       "_view_count": null,
       "_view_module": "@jupyter-widgets/base",
       "_view_module_version": "1.2.0",
       "_view_name": "LayoutView",
       "align_content": null,
       "align_items": null,
       "align_self": null,
       "border": null,
       "bottom": null,
       "display": null,
       "flex": null,
       "flex_flow": null,
       "grid_area": null,
       "grid_auto_columns": null,
       "grid_auto_flow": null,
       "grid_auto_rows": null,
       "grid_column": null,
       "grid_gap": null,
       "grid_row": null,
       "grid_template_areas": null,
       "grid_template_columns": null,
       "grid_template_rows": null,
       "height": null,
       "justify_content": null,
       "justify_items": null,
       "left": null,
       "margin": null,
       "max_height": null,
       "max_width": null,
       "min_height": null,
       "min_width": null,
       "object_fit": null,
       "object_position": null,
       "order": null,
       "overflow": null,
       "overflow_x": null,
       "overflow_y": null,
       "padding": null,
       "right": null,
       "top": null,
       "visibility": null,
       "width": null
      }
     },
     "6946fb9a0a284f6abca18510986b7b93": {
      "model_module": "@jupyter-widgets/controls",
      "model_module_version": "1.5.0",
      "model_name": "HTMLModel",
      "state": {
       "_dom_classes": [],
       "_model_module": "@jupyter-widgets/controls",
       "_model_module_version": "1.5.0",
       "_model_name": "HTMLModel",
       "_view_count": null,
       "_view_module": "@jupyter-widgets/controls",
       "_view_module_version": "1.5.0",
       "_view_name": "HTMLView",
       "description": "",
       "description_tooltip": null,
       "layout": "IPY_MODEL_c966c9f7170245ab9fbf583089b2ecf1",
       "placeholder": "​",
       "style": "IPY_MODEL_e145dc23d58b4c4392d52228e2dc6eeb",
       "value": " 14231/14231 [07:57&lt;00:00, 74.51it/s]"
      }
     },
     "77f250389ca041ae900de2c61362a267": {
      "model_module": "@jupyter-widgets/controls",
      "model_module_version": "1.5.0",
      "model_name": "ProgressStyleModel",
      "state": {
       "_model_module": "@jupyter-widgets/controls",
       "_model_module_version": "1.5.0",
       "_model_name": "ProgressStyleModel",
       "_view_count": null,
       "_view_module": "@jupyter-widgets/base",
       "_view_module_version": "1.2.0",
       "_view_name": "StyleView",
       "bar_color": null,
       "description_width": ""
      }
     },
     "7c3631ac39c44af79174c3d04c516efe": {
      "model_module": "@jupyter-widgets/controls",
      "model_module_version": "1.5.0",
      "model_name": "HBoxModel",
      "state": {
       "_dom_classes": [],
       "_model_module": "@jupyter-widgets/controls",
       "_model_module_version": "1.5.0",
       "_model_name": "HBoxModel",
       "_view_count": null,
       "_view_module": "@jupyter-widgets/controls",
       "_view_module_version": "1.5.0",
       "_view_name": "HBoxView",
       "box_style": "",
       "children": [
        "IPY_MODEL_157eb32e999948e09b4a97f8c0474f86",
        "IPY_MODEL_959ceb09544741fabdc2a10d9bb2c476",
        "IPY_MODEL_f6ce6bb565e84375b72bc11901044041"
       ],
       "layout": "IPY_MODEL_a87b5d897cee448b946a043d3726ca78"
      }
     },
     "82c3ad2e43b1405288e5b45ae94ef5fb": {
      "model_module": "@jupyter-widgets/base",
      "model_module_version": "1.2.0",
      "model_name": "LayoutModel",
      "state": {
       "_model_module": "@jupyter-widgets/base",
       "_model_module_version": "1.2.0",
       "_model_name": "LayoutModel",
       "_view_count": null,
       "_view_module": "@jupyter-widgets/base",
       "_view_module_version": "1.2.0",
       "_view_name": "LayoutView",
       "align_content": null,
       "align_items": null,
       "align_self": null,
       "border": null,
       "bottom": null,
       "display": null,
       "flex": null,
       "flex_flow": null,
       "grid_area": null,
       "grid_auto_columns": null,
       "grid_auto_flow": null,
       "grid_auto_rows": null,
       "grid_column": null,
       "grid_gap": null,
       "grid_row": null,
       "grid_template_areas": null,
       "grid_template_columns": null,
       "grid_template_rows": null,
       "height": null,
       "justify_content": null,
       "justify_items": null,
       "left": null,
       "margin": null,
       "max_height": null,
       "max_width": null,
       "min_height": null,
       "min_width": null,
       "object_fit": null,
       "object_position": null,
       "order": null,
       "overflow": null,
       "overflow_x": null,
       "overflow_y": null,
       "padding": null,
       "right": null,
       "top": null,
       "visibility": null,
       "width": null
      }
     },
     "8a98f3d784e44516bf16b1e18210d836": {
      "model_module": "@jupyter-widgets/base",
      "model_module_version": "1.2.0",
      "model_name": "LayoutModel",
      "state": {
       "_model_module": "@jupyter-widgets/base",
       "_model_module_version": "1.2.0",
       "_model_name": "LayoutModel",
       "_view_count": null,
       "_view_module": "@jupyter-widgets/base",
       "_view_module_version": "1.2.0",
       "_view_name": "LayoutView",
       "align_content": null,
       "align_items": null,
       "align_self": null,
       "border": null,
       "bottom": null,
       "display": null,
       "flex": null,
       "flex_flow": null,
       "grid_area": null,
       "grid_auto_columns": null,
       "grid_auto_flow": null,
       "grid_auto_rows": null,
       "grid_column": null,
       "grid_gap": null,
       "grid_row": null,
       "grid_template_areas": null,
       "grid_template_columns": null,
       "grid_template_rows": null,
       "height": null,
       "justify_content": null,
       "justify_items": null,
       "left": null,
       "margin": null,
       "max_height": null,
       "max_width": null,
       "min_height": null,
       "min_width": null,
       "object_fit": null,
       "object_position": null,
       "order": null,
       "overflow": null,
       "overflow_x": null,
       "overflow_y": null,
       "padding": null,
       "right": null,
       "top": null,
       "visibility": null,
       "width": null
      }
     },
     "9517c67618d74921a1b2bf70ba164118": {
      "model_module": "@jupyter-widgets/base",
      "model_module_version": "1.2.0",
      "model_name": "LayoutModel",
      "state": {
       "_model_module": "@jupyter-widgets/base",
       "_model_module_version": "1.2.0",
       "_model_name": "LayoutModel",
       "_view_count": null,
       "_view_module": "@jupyter-widgets/base",
       "_view_module_version": "1.2.0",
       "_view_name": "LayoutView",
       "align_content": null,
       "align_items": null,
       "align_self": null,
       "border": null,
       "bottom": null,
       "display": null,
       "flex": null,
       "flex_flow": null,
       "grid_area": null,
       "grid_auto_columns": null,
       "grid_auto_flow": null,
       "grid_auto_rows": null,
       "grid_column": null,
       "grid_gap": null,
       "grid_row": null,
       "grid_template_areas": null,
       "grid_template_columns": null,
       "grid_template_rows": null,
       "height": null,
       "justify_content": null,
       "justify_items": null,
       "left": null,
       "margin": null,
       "max_height": null,
       "max_width": null,
       "min_height": null,
       "min_width": null,
       "object_fit": null,
       "object_position": null,
       "order": null,
       "overflow": null,
       "overflow_x": null,
       "overflow_y": null,
       "padding": null,
       "right": null,
       "top": null,
       "visibility": null,
       "width": null
      }
     },
     "952299ccf2864d68b38cf5faabf097ba": {
      "model_module": "@jupyter-widgets/base",
      "model_module_version": "1.2.0",
      "model_name": "LayoutModel",
      "state": {
       "_model_module": "@jupyter-widgets/base",
       "_model_module_version": "1.2.0",
       "_model_name": "LayoutModel",
       "_view_count": null,
       "_view_module": "@jupyter-widgets/base",
       "_view_module_version": "1.2.0",
       "_view_name": "LayoutView",
       "align_content": null,
       "align_items": null,
       "align_self": null,
       "border": null,
       "bottom": null,
       "display": null,
       "flex": null,
       "flex_flow": null,
       "grid_area": null,
       "grid_auto_columns": null,
       "grid_auto_flow": null,
       "grid_auto_rows": null,
       "grid_column": null,
       "grid_gap": null,
       "grid_row": null,
       "grid_template_areas": null,
       "grid_template_columns": null,
       "grid_template_rows": null,
       "height": null,
       "justify_content": null,
       "justify_items": null,
       "left": null,
       "margin": null,
       "max_height": null,
       "max_width": null,
       "min_height": null,
       "min_width": null,
       "object_fit": null,
       "object_position": null,
       "order": null,
       "overflow": null,
       "overflow_x": null,
       "overflow_y": null,
       "padding": null,
       "right": null,
       "top": null,
       "visibility": null,
       "width": null
      }
     },
     "959ceb09544741fabdc2a10d9bb2c476": {
      "model_module": "@jupyter-widgets/controls",
      "model_module_version": "1.5.0",
      "model_name": "FloatProgressModel",
      "state": {
       "_dom_classes": [],
       "_model_module": "@jupyter-widgets/controls",
       "_model_module_version": "1.5.0",
       "_model_name": "FloatProgressModel",
       "_view_count": null,
       "_view_module": "@jupyter-widgets/controls",
       "_view_module_version": "1.5.0",
       "_view_name": "ProgressView",
       "bar_style": "success",
       "description": "",
       "description_tooltip": null,
       "layout": "IPY_MODEL_ab9af34f1dfb4ef08bd512d87e7f1aa8",
       "max": 14231.0,
       "min": 0.0,
       "orientation": "horizontal",
       "style": "IPY_MODEL_bc6c0ce9a25c48848b1d3fddd6a7099e",
       "value": 14231.0
      }
     },
     "99698f1ae17f42dd9195ea0c3f8efb99": {
      "model_module": "@jupyter-widgets/base",
      "model_module_version": "1.2.0",
      "model_name": "LayoutModel",
      "state": {
       "_model_module": "@jupyter-widgets/base",
       "_model_module_version": "1.2.0",
       "_model_name": "LayoutModel",
       "_view_count": null,
       "_view_module": "@jupyter-widgets/base",
       "_view_module_version": "1.2.0",
       "_view_name": "LayoutView",
       "align_content": null,
       "align_items": null,
       "align_self": null,
       "border": null,
       "bottom": null,
       "display": null,
       "flex": null,
       "flex_flow": null,
       "grid_area": null,
       "grid_auto_columns": null,
       "grid_auto_flow": null,
       "grid_auto_rows": null,
       "grid_column": null,
       "grid_gap": null,
       "grid_row": null,
       "grid_template_areas": null,
       "grid_template_columns": null,
       "grid_template_rows": null,
       "height": null,
       "justify_content": null,
       "justify_items": null,
       "left": null,
       "margin": null,
       "max_height": null,
       "max_width": null,
       "min_height": null,
       "min_width": null,
       "object_fit": null,
       "object_position": null,
       "order": null,
       "overflow": null,
       "overflow_x": null,
       "overflow_y": null,
       "padding": null,
       "right": null,
       "top": null,
       "visibility": null,
       "width": null
      }
     },
     "a05e5481989243a686e0789b26bd87f5": {
      "model_module": "@jupyter-widgets/controls",
      "model_module_version": "1.5.0",
      "model_name": "DescriptionStyleModel",
      "state": {
       "_model_module": "@jupyter-widgets/controls",
       "_model_module_version": "1.5.0",
       "_model_name": "DescriptionStyleModel",
       "_view_count": null,
       "_view_module": "@jupyter-widgets/base",
       "_view_module_version": "1.2.0",
       "_view_name": "StyleView",
       "description_width": ""
      }
     },
     "a87b5d897cee448b946a043d3726ca78": {
      "model_module": "@jupyter-widgets/base",
      "model_module_version": "1.2.0",
      "model_name": "LayoutModel",
      "state": {
       "_model_module": "@jupyter-widgets/base",
       "_model_module_version": "1.2.0",
       "_model_name": "LayoutModel",
       "_view_count": null,
       "_view_module": "@jupyter-widgets/base",
       "_view_module_version": "1.2.0",
       "_view_name": "LayoutView",
       "align_content": null,
       "align_items": null,
       "align_self": null,
       "border": null,
       "bottom": null,
       "display": null,
       "flex": null,
       "flex_flow": null,
       "grid_area": null,
       "grid_auto_columns": null,
       "grid_auto_flow": null,
       "grid_auto_rows": null,
       "grid_column": null,
       "grid_gap": null,
       "grid_row": null,
       "grid_template_areas": null,
       "grid_template_columns": null,
       "grid_template_rows": null,
       "height": null,
       "justify_content": null,
       "justify_items": null,
       "left": null,
       "margin": null,
       "max_height": null,
       "max_width": null,
       "min_height": null,
       "min_width": null,
       "object_fit": null,
       "object_position": null,
       "order": null,
       "overflow": null,
       "overflow_x": null,
       "overflow_y": null,
       "padding": null,
       "right": null,
       "top": null,
       "visibility": null,
       "width": null
      }
     },
     "ab9af34f1dfb4ef08bd512d87e7f1aa8": {
      "model_module": "@jupyter-widgets/base",
      "model_module_version": "1.2.0",
      "model_name": "LayoutModel",
      "state": {
       "_model_module": "@jupyter-widgets/base",
       "_model_module_version": "1.2.0",
       "_model_name": "LayoutModel",
       "_view_count": null,
       "_view_module": "@jupyter-widgets/base",
       "_view_module_version": "1.2.0",
       "_view_name": "LayoutView",
       "align_content": null,
       "align_items": null,
       "align_self": null,
       "border": null,
       "bottom": null,
       "display": null,
       "flex": null,
       "flex_flow": null,
       "grid_area": null,
       "grid_auto_columns": null,
       "grid_auto_flow": null,
       "grid_auto_rows": null,
       "grid_column": null,
       "grid_gap": null,
       "grid_row": null,
       "grid_template_areas": null,
       "grid_template_columns": null,
       "grid_template_rows": null,
       "height": null,
       "justify_content": null,
       "justify_items": null,
       "left": null,
       "margin": null,
       "max_height": null,
       "max_width": null,
       "min_height": null,
       "min_width": null,
       "object_fit": null,
       "object_position": null,
       "order": null,
       "overflow": null,
       "overflow_x": null,
       "overflow_y": null,
       "padding": null,
       "right": null,
       "top": null,
       "visibility": null,
       "width": null
      }
     },
     "aecda1f1d3b141a1bad3573218e048db": {
      "model_module": "@jupyter-widgets/controls",
      "model_module_version": "1.5.0",
      "model_name": "HTMLModel",
      "state": {
       "_dom_classes": [],
       "_model_module": "@jupyter-widgets/controls",
       "_model_module_version": "1.5.0",
       "_model_name": "HTMLModel",
       "_view_count": null,
       "_view_module": "@jupyter-widgets/controls",
       "_view_module_version": "1.5.0",
       "_view_name": "HTMLView",
       "description": "",
       "description_tooltip": null,
       "layout": "IPY_MODEL_0a362cc5c52b4d0c903b64059b9ca9b9",
       "placeholder": "​",
       "style": "IPY_MODEL_053b795256444adaa3715a83ccb4f2d8",
       "value": " 150000/150000 [00:25&lt;00:00, 5859.48it/s]"
      }
     },
     "b6ae4b2cced44e59aea12d57ec936a34": {
      "model_module": "@jupyter-widgets/controls",
      "model_module_version": "1.5.0",
      "model_name": "HTMLModel",
      "state": {
       "_dom_classes": [],
       "_model_module": "@jupyter-widgets/controls",
       "_model_module_version": "1.5.0",
       "_model_name": "HTMLModel",
       "_view_count": null,
       "_view_module": "@jupyter-widgets/controls",
       "_view_module_version": "1.5.0",
       "_view_name": "HTMLView",
       "description": "",
       "description_tooltip": null,
       "layout": "IPY_MODEL_8a98f3d784e44516bf16b1e18210d836",
       "placeholder": "​",
       "style": "IPY_MODEL_d42ad1260d8f47bfb81db0a06c328a2f",
       "value": "100%"
      }
     },
     "b76eeac530fd4692986b8ae6da1139b3": {
      "model_module": "@jupyter-widgets/controls",
      "model_module_version": "1.5.0",
      "model_name": "DescriptionStyleModel",
      "state": {
       "_model_module": "@jupyter-widgets/controls",
       "_model_module_version": "1.5.0",
       "_model_name": "DescriptionStyleModel",
       "_view_count": null,
       "_view_module": "@jupyter-widgets/base",
       "_view_module_version": "1.2.0",
       "_view_name": "StyleView",
       "description_width": ""
      }
     },
     "bc6c0ce9a25c48848b1d3fddd6a7099e": {
      "model_module": "@jupyter-widgets/controls",
      "model_module_version": "1.5.0",
      "model_name": "ProgressStyleModel",
      "state": {
       "_model_module": "@jupyter-widgets/controls",
       "_model_module_version": "1.5.0",
       "_model_name": "ProgressStyleModel",
       "_view_count": null,
       "_view_module": "@jupyter-widgets/base",
       "_view_module_version": "1.2.0",
       "_view_name": "StyleView",
       "bar_color": null,
       "description_width": ""
      }
     },
     "c75f45c22d16403cbf78d059523318f6": {
      "model_module": "@jupyter-widgets/base",
      "model_module_version": "1.2.0",
      "model_name": "LayoutModel",
      "state": {
       "_model_module": "@jupyter-widgets/base",
       "_model_module_version": "1.2.0",
       "_model_name": "LayoutModel",
       "_view_count": null,
       "_view_module": "@jupyter-widgets/base",
       "_view_module_version": "1.2.0",
       "_view_name": "LayoutView",
       "align_content": null,
       "align_items": null,
       "align_self": null,
       "border": null,
       "bottom": null,
       "display": null,
       "flex": null,
       "flex_flow": null,
       "grid_area": null,
       "grid_auto_columns": null,
       "grid_auto_flow": null,
       "grid_auto_rows": null,
       "grid_column": null,
       "grid_gap": null,
       "grid_row": null,
       "grid_template_areas": null,
       "grid_template_columns": null,
       "grid_template_rows": null,
       "height": null,
       "justify_content": null,
       "justify_items": null,
       "left": null,
       "margin": null,
       "max_height": null,
       "max_width": null,
       "min_height": null,
       "min_width": null,
       "object_fit": null,
       "object_position": null,
       "order": null,
       "overflow": null,
       "overflow_x": null,
       "overflow_y": null,
       "padding": null,
       "right": null,
       "top": null,
       "visibility": null,
       "width": null
      }
     },
     "c8e9edae4aa2471da43a9565cd8d55b4": {
      "model_module": "@jupyter-widgets/controls",
      "model_module_version": "1.5.0",
      "model_name": "ProgressStyleModel",
      "state": {
       "_model_module": "@jupyter-widgets/controls",
       "_model_module_version": "1.5.0",
       "_model_name": "ProgressStyleModel",
       "_view_count": null,
       "_view_module": "@jupyter-widgets/base",
       "_view_module_version": "1.2.0",
       "_view_name": "StyleView",
       "bar_color": null,
       "description_width": ""
      }
     },
     "c966c9f7170245ab9fbf583089b2ecf1": {
      "model_module": "@jupyter-widgets/base",
      "model_module_version": "1.2.0",
      "model_name": "LayoutModel",
      "state": {
       "_model_module": "@jupyter-widgets/base",
       "_model_module_version": "1.2.0",
       "_model_name": "LayoutModel",
       "_view_count": null,
       "_view_module": "@jupyter-widgets/base",
       "_view_module_version": "1.2.0",
       "_view_name": "LayoutView",
       "align_content": null,
       "align_items": null,
       "align_self": null,
       "border": null,
       "bottom": null,
       "display": null,
       "flex": null,
       "flex_flow": null,
       "grid_area": null,
       "grid_auto_columns": null,
       "grid_auto_flow": null,
       "grid_auto_rows": null,
       "grid_column": null,
       "grid_gap": null,
       "grid_row": null,
       "grid_template_areas": null,
       "grid_template_columns": null,
       "grid_template_rows": null,
       "height": null,
       "justify_content": null,
       "justify_items": null,
       "left": null,
       "margin": null,
       "max_height": null,
       "max_width": null,
       "min_height": null,
       "min_width": null,
       "object_fit": null,
       "object_position": null,
       "order": null,
       "overflow": null,
       "overflow_x": null,
       "overflow_y": null,
       "padding": null,
       "right": null,
       "top": null,
       "visibility": null,
       "width": null
      }
     },
     "c9d7c56be0c942f7800446eb2f277fec": {
      "model_module": "@jupyter-widgets/controls",
      "model_module_version": "1.5.0",
      "model_name": "HBoxModel",
      "state": {
       "_dom_classes": [],
       "_model_module": "@jupyter-widgets/controls",
       "_model_module_version": "1.5.0",
       "_model_name": "HBoxModel",
       "_view_count": null,
       "_view_module": "@jupyter-widgets/controls",
       "_view_module_version": "1.5.0",
       "_view_name": "HBoxView",
       "box_style": "",
       "children": [
        "IPY_MODEL_df04c3c1f98d48eaa77a3022fb60cf69",
        "IPY_MODEL_0cdb63439c6f455699e38c4104d77051",
        "IPY_MODEL_aecda1f1d3b141a1bad3573218e048db"
       ],
       "layout": "IPY_MODEL_17ef8f3a6572473e8a1bf66e7875d246"
      }
     },
     "d42ad1260d8f47bfb81db0a06c328a2f": {
      "model_module": "@jupyter-widgets/controls",
      "model_module_version": "1.5.0",
      "model_name": "DescriptionStyleModel",
      "state": {
       "_model_module": "@jupyter-widgets/controls",
       "_model_module_version": "1.5.0",
       "_model_name": "DescriptionStyleModel",
       "_view_count": null,
       "_view_module": "@jupyter-widgets/base",
       "_view_module_version": "1.2.0",
       "_view_name": "StyleView",
       "description_width": ""
      }
     },
     "df04c3c1f98d48eaa77a3022fb60cf69": {
      "model_module": "@jupyter-widgets/controls",
      "model_module_version": "1.5.0",
      "model_name": "HTMLModel",
      "state": {
       "_dom_classes": [],
       "_model_module": "@jupyter-widgets/controls",
       "_model_module_version": "1.5.0",
       "_model_name": "HTMLModel",
       "_view_count": null,
       "_view_module": "@jupyter-widgets/controls",
       "_view_module_version": "1.5.0",
       "_view_name": "HTMLView",
       "description": "",
       "description_tooltip": null,
       "layout": "IPY_MODEL_9517c67618d74921a1b2bf70ba164118",
       "placeholder": "​",
       "style": "IPY_MODEL_a05e5481989243a686e0789b26bd87f5",
       "value": "100%"
      }
     },
     "df51cd6a9ca14e8e985017bc39dfd31e": {
      "model_module": "@jupyter-widgets/controls",
      "model_module_version": "1.5.0",
      "model_name": "FloatProgressModel",
      "state": {
       "_dom_classes": [],
       "_model_module": "@jupyter-widgets/controls",
       "_model_module_version": "1.5.0",
       "_model_name": "FloatProgressModel",
       "_view_count": null,
       "_view_module": "@jupyter-widgets/controls",
       "_view_module_version": "1.5.0",
       "_view_name": "ProgressView",
       "bar_style": "success",
       "description": "",
       "description_tooltip": null,
       "layout": "IPY_MODEL_99698f1ae17f42dd9195ea0c3f8efb99",
       "max": 14231.0,
       "min": 0.0,
       "orientation": "horizontal",
       "style": "IPY_MODEL_c8e9edae4aa2471da43a9565cd8d55b4",
       "value": 14231.0
      }
     },
     "e145dc23d58b4c4392d52228e2dc6eeb": {
      "model_module": "@jupyter-widgets/controls",
      "model_module_version": "1.5.0",
      "model_name": "DescriptionStyleModel",
      "state": {
       "_model_module": "@jupyter-widgets/controls",
       "_model_module_version": "1.5.0",
       "_model_name": "DescriptionStyleModel",
       "_view_count": null,
       "_view_module": "@jupyter-widgets/base",
       "_view_module_version": "1.2.0",
       "_view_name": "StyleView",
       "description_width": ""
      }
     },
     "e7032d1ff6184342ac4bc9498d9598c8": {
      "model_module": "@jupyter-widgets/controls",
      "model_module_version": "1.5.0",
      "model_name": "DescriptionStyleModel",
      "state": {
       "_model_module": "@jupyter-widgets/controls",
       "_model_module_version": "1.5.0",
       "_model_name": "DescriptionStyleModel",
       "_view_count": null,
       "_view_module": "@jupyter-widgets/base",
       "_view_module_version": "1.2.0",
       "_view_name": "StyleView",
       "description_width": ""
      }
     },
     "f6ce6bb565e84375b72bc11901044041": {
      "model_module": "@jupyter-widgets/controls",
      "model_module_version": "1.5.0",
      "model_name": "HTMLModel",
      "state": {
       "_dom_classes": [],
       "_model_module": "@jupyter-widgets/controls",
       "_model_module_version": "1.5.0",
       "_model_name": "HTMLModel",
       "_view_count": null,
       "_view_module": "@jupyter-widgets/controls",
       "_view_module_version": "1.5.0",
       "_view_name": "HTMLView",
       "description": "",
       "description_tooltip": null,
       "layout": "IPY_MODEL_952299ccf2864d68b38cf5faabf097ba",
       "placeholder": "​",
       "style": "IPY_MODEL_260dfd1456c546b59bebb54ca18bb41a",
       "value": " 14231/14231 [07:47&lt;00:00, 77.52it/s]"
      }
     },
     "fa8ef3b4ec9b45f7b28de8b2dcd6fbec": {
      "model_module": "@jupyter-widgets/base",
      "model_module_version": "1.2.0",
      "model_name": "LayoutModel",
      "state": {
       "_model_module": "@jupyter-widgets/base",
       "_model_module_version": "1.2.0",
       "_model_name": "LayoutModel",
       "_view_count": null,
       "_view_module": "@jupyter-widgets/base",
       "_view_module_version": "1.2.0",
       "_view_name": "LayoutView",
       "align_content": null,
       "align_items": null,
       "align_self": null,
       "border": null,
       "bottom": null,
       "display": null,
       "flex": null,
       "flex_flow": null,
       "grid_area": null,
       "grid_auto_columns": null,
       "grid_auto_flow": null,
       "grid_auto_rows": null,
       "grid_column": null,
       "grid_gap": null,
       "grid_row": null,
       "grid_template_areas": null,
       "grid_template_columns": null,
       "grid_template_rows": null,
       "height": null,
       "justify_content": null,
       "justify_items": null,
       "left": null,
       "margin": null,
       "max_height": null,
       "max_width": null,
       "min_height": null,
       "min_width": null,
       "object_fit": null,
       "object_position": null,
       "order": null,
       "overflow": null,
       "overflow_x": null,
       "overflow_y": null,
       "padding": null,
       "right": null,
       "top": null,
       "visibility": null,
       "width": null
      }
     },
     "fe849052083e45d89b95ba3ac5d839fe": {
      "model_module": "@jupyter-widgets/base",
      "model_module_version": "1.2.0",
      "model_name": "LayoutModel",
      "state": {
       "_model_module": "@jupyter-widgets/base",
       "_model_module_version": "1.2.0",
       "_model_name": "LayoutModel",
       "_view_count": null,
       "_view_module": "@jupyter-widgets/base",
       "_view_module_version": "1.2.0",
       "_view_name": "LayoutView",
       "align_content": null,
       "align_items": null,
       "align_self": null,
       "border": null,
       "bottom": null,
       "display": null,
       "flex": null,
       "flex_flow": null,
       "grid_area": null,
       "grid_auto_columns": null,
       "grid_auto_flow": null,
       "grid_auto_rows": null,
       "grid_column": null,
       "grid_gap": null,
       "grid_row": null,
       "grid_template_areas": null,
       "grid_template_columns": null,
       "grid_template_rows": null,
       "height": null,
       "justify_content": null,
       "justify_items": null,
       "left": null,
       "margin": null,
       "max_height": null,
       "max_width": null,
       "min_height": null,
       "min_width": null,
       "object_fit": null,
       "object_position": null,
       "order": null,
       "overflow": null,
       "overflow_x": null,
       "overflow_y": null,
       "padding": null,
       "right": null,
       "top": null,
       "visibility": null,
       "width": null
      }
     }
    },
    "version_major": 2,
    "version_minor": 0
   }
  }
 },
 "nbformat": 4,
 "nbformat_minor": 5
}
